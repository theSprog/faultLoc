{
 "cells": [
  {
   "cell_type": "code",
   "execution_count": 1,
   "id": "abd2001d",
   "metadata": {
    "ExecuteTime": {
     "end_time": "2022-10-19T05:35:01.207696Z",
     "start_time": "2022-10-19T05:35:00.120349Z"
    }
   },
   "outputs": [],
   "source": [
    "import pandas as pd\n",
    "import seaborn as sns\n",
    "import matplotlib.pyplot as plt\n",
    "import matplotlib.ticker as ticker\n",
    "import missingno"
   ]
  },
  {
   "cell_type": "code",
   "execution_count": 2,
   "id": "2cae0244",
   "metadata": {
    "ExecuteTime": {
     "end_time": "2022-10-19T05:35:01.551565Z",
     "start_time": "2022-10-19T05:35:01.209697Z"
    }
   },
   "outputs": [],
   "source": [
    "FIC = pd.read_excel(\"./PendingStrategy.xlsx\", sheet_name='FIC')\n",
    "FICBS = pd.read_excel(\"./PendingStrategy.xlsx\", sheet_name='FICBS')\n",
    "RI = pd.read_excel(\"./PendingStrategy.xlsx\", sheet_name='RI')\n",
    "CMS = pd.read_excel(\"./PendingStrategy.xlsx\", sheet_name='CMS')\n",
    "\n",
    "CMS = CMS.drop(['path', 'NoSafePrecision', 'NoSafeRecall', 'NoSafeADTC', 'Time1', 'Time2', 'Time3', 'Time4', 'Time5', 'Time6', 'Time7', 'Time8', 'Time9', 'Time10'], axis=1)\n",
    "FICBS = FICBS.drop(['path', 'NoSafePrecision', 'NoSafeRecall', 'NoSafeADTC', 'Time1', 'Time2', 'Time3', 'Time4', 'Time5', 'Time6', 'Time7', 'Time8', 'Time9', 'Time10'], axis=1)\n",
    "FIC = FIC.drop(['path', 'NoSafePrecision', 'NoSafeRecall', 'NoSafeADTC', 'Time1', 'Time2', 'Time3', 'Time4', 'Time5', 'Time6', 'Time7', 'Time8', 'Time9', 'Time10'], axis=1)\n",
    "RI = RI.drop(['path', 'NoSafePrecision', 'NoSafeRecall', 'NoSafeADTC', 'Time1', 'Time2', 'Time3', 'Time4', 'Time5', 'Time6', 'Time7', 'Time8', 'Time9', 'Time10'], axis=1)\n",
    "\n",
    "CMS['ADTC'] = CMS['ADTC'].round(3)\n",
    "FIC['ADTC'] = FIC['ADTC'].round(3)\n",
    "FICBS['ADTC'] = FICBS['ADTC'].round(3)\n",
    "RI['ADTC'] = RI['ADTC'].round(3)\n",
    "\n",
    "CMS['N'] = CMS['N'].astype(int)\n",
    "FIC['N'] = FIC['N'].astype(int)\n",
    "FICBS['N'] = FICBS['N'].astype(int)\n",
    "RI['N'] = RI['N'].astype(int)\n",
    "\n",
    "CMS[['Precision', 'Recall']] = CMS[['Precision', 'Recall']].astype(str)\n",
    "FIC[['Precision', 'Recall']] = FIC[['Precision', 'Recall']].astype(str)\n",
    "FICBS[['Precision', 'Recall']] = FICBS[['Precision', 'Recall']].astype(str)\n",
    "RI[['Precision', 'Recall']] = RI[['Precision', 'Recall']].astype(str)"
   ]
  },
  {
   "cell_type": "code",
   "execution_count": null,
   "id": "4cee0380",
   "metadata": {
    "ExecuteTime": {
     "end_time": "2022-10-19T05:27:19.611666Z",
     "start_time": "2022-10-19T05:27:19.597657Z"
    }
   },
   "outputs": [],
   "source": []
  },
  {
   "cell_type": "code",
   "execution_count": 3,
   "id": "4b77866b",
   "metadata": {
    "ExecuteTime": {
     "end_time": "2022-10-19T05:35:01.567085Z",
     "start_time": "2022-10-19T05:35:01.553566Z"
    }
   },
   "outputs": [],
   "source": [
    "exectime = pd.concat([CMS[['project','N']], FIC['AvgTime'], FICBS['AvgTime'], RI['AvgTime'], CMS['AvgTime']], axis=1) \n",
    "exectime.columns = ['project', 'N', 'FIC', 'FICBS', 'RI', 'CMS']\n",
    "\n",
    "ADTC = pd.concat([CMS[['project','N']], FIC['ADTC'], FICBS['ADTC'], RI['ADTC'], CMS['ADTC']], axis=1) \n",
    "ADTC.columns = ['project', 'N', 'FIC', 'FICBS', 'RI', 'CMS']\n",
    "\n",
    "\n",
    "PR = pd.concat([CMS[['project','N']], FIC['Precision'], FICBS['Precision'], RI['Precision'], CMS['Precision']], axis=1) \n",
    "PR.columns = ['project', 'N', 'FIC', 'FICBS', 'RI', 'CMS']\n",
    "PR['FIC'] = '(' + FIC['Precision'] + ', ' + FIC['Recall'] + ')'\n",
    "PR['FICBS'] = '(' + FICBS['Precision'] + ', ' + FICBS['Recall'] + ')'\n",
    "PR['RI'] = '(' + RI['Precision'] + ', ' + RI['Recall'] + ')'\n",
    "PR['CMS'] = '(' + CMS['Precision'] + ', ' + CMS['Recall'] + ')'"
   ]
  },
  {
   "cell_type": "code",
   "execution_count": 4,
   "id": "1438b79c",
   "metadata": {
    "ExecuteTime": {
     "end_time": "2022-10-19T05:35:01.613480Z",
     "start_time": "2022-10-19T05:35:01.568085Z"
    }
   },
   "outputs": [],
   "source": [
    "writer = pd.ExcelWriter(\"./strategy.xlsx\")\n",
    "\n",
    "exectime.to_excel(writer, sheet_name=\"exectime\", index=False)\n",
    "ADTC.to_excel(writer, sheet_name=\"additional testcases\", index=False)\n",
    "PR.to_excel(writer, sheet_name=\"Precision and Recall\", index=False)\n",
    "\n",
    "writer.save()\n",
    "writer.handles = None"
   ]
  },
  {
   "cell_type": "code",
   "execution_count": null,
   "id": "f8d0fe1c",
   "metadata": {
    "ExecuteTime": {
     "end_time": "2022-10-19T05:24:36.507084Z",
     "start_time": "2022-10-19T05:24:36.481092Z"
    }
   },
   "outputs": [],
   "source": []
  },
  {
   "cell_type": "code",
   "execution_count": null,
   "id": "518dc0a4",
   "metadata": {},
   "outputs": [],
   "source": []
  }
 ],
 "metadata": {
  "kernelspec": {
   "display_name": "Python 3 (ipykernel)",
   "language": "python",
   "name": "python3"
  },
  "language_info": {
   "codemirror_mode": {
    "name": "ipython",
    "version": 3
   },
   "file_extension": ".py",
   "mimetype": "text/x-python",
   "name": "python",
   "nbconvert_exporter": "python",
   "pygments_lexer": "ipython3",
   "version": "3.10.0"
  },
  "toc": {
   "base_numbering": 1,
   "nav_menu": {},
   "number_sections": true,
   "sideBar": true,
   "skip_h1_title": false,
   "title_cell": "Table of Contents",
   "title_sidebar": "Contents",
   "toc_cell": false,
   "toc_position": {},
   "toc_section_display": true,
   "toc_window_display": false
  },
  "varInspector": {
   "cols": {
    "lenName": 16,
    "lenType": 16,
    "lenVar": 40
   },
   "kernels_config": {
    "python": {
     "delete_cmd_postfix": "",
     "delete_cmd_prefix": "del ",
     "library": "var_list.py",
     "varRefreshCmd": "print(var_dic_list())"
    },
    "r": {
     "delete_cmd_postfix": ") ",
     "delete_cmd_prefix": "rm(",
     "library": "var_list.r",
     "varRefreshCmd": "cat(var_dic_list()) "
    }
   },
   "types_to_exclude": [
    "module",
    "function",
    "builtin_function_or_method",
    "instance",
    "_Feature"
   ],
   "window_display": false
  }
 },
 "nbformat": 4,
 "nbformat_minor": 5
}
