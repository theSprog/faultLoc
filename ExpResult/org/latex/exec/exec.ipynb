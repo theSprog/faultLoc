{
 "cells": [
  {
   "cell_type": "code",
   "execution_count": 1,
   "id": "d4a9067a",
   "metadata": {
    "ExecuteTime": {
     "end_time": "2022-10-17T12:34:32.006461Z",
     "start_time": "2022-10-17T12:34:30.803019Z"
    }
   },
   "outputs": [],
   "source": [
    "import pandas as pd\n",
    "import seaborn as sns\n",
    "import matplotlib.pyplot as plt\n",
    "import matplotlib.ticker as ticker"
   ]
  },
  {
   "cell_type": "code",
   "execution_count": 12,
   "id": "a226f366",
   "metadata": {
    "ExecuteTime": {
     "end_time": "2022-10-17T12:38:04.050176Z",
     "start_time": "2022-10-17T12:38:03.983514Z"
    }
   },
   "outputs": [
    {
     "name": "stderr",
     "output_type": "stream",
     "text": [
      "D:\\python\\lib\\site-packages\\openpyxl\\styles\\stylesheet.py:226: UserWarning: Workbook contains no default style, apply openpyxl's default\n",
      "  warn(\"Workbook contains no default style, apply openpyxl's default\")\n"
     ]
    }
   ],
   "source": [
    "execTime = pd.read_excel(\"./execTime.xlsx\", sheet_name='execTime_8')"
   ]
  },
  {
   "cell_type": "code",
   "execution_count": 17,
   "id": "ecc410b4",
   "metadata": {
    "ExecuteTime": {
     "end_time": "2022-10-17T12:38:28.532088Z",
     "start_time": "2022-10-17T12:38:28.510092Z"
    }
   },
   "outputs": [],
   "source": [
    "projects = []\n",
    "paths = []\n",
    "with open(\"../exp.txt\") as f:\n",
    "    lines = f.readlines()\n",
    "    for line in lines:\n",
    "        [project, path] = line.replace(\"\\n\", \"\").split(\"/\", 1)\n",
    "        projects.append(project)\n",
    "        paths.append(path)\n",
    "\n",
    "execTime_slice = execTime.loc[(execTime['project'].isin(projects)) &\n",
    "                                        (execTime['path'].isin(paths))].drop(\"path\", axis=1)\n",
    "execTime_slice['N'] = execTime_slice['N'].astype(int)\n",
    "execTime_slice = execTime_slice.fillna('-')"
   ]
  },
  {
   "cell_type": "code",
   "execution_count": 19,
   "id": "d115fd8f",
   "metadata": {
    "ExecuteTime": {
     "end_time": "2022-10-17T12:38:32.800536Z",
     "start_time": "2022-10-17T12:38:32.766127Z"
    }
   },
   "outputs": [],
   "source": [
    "writer = pd.ExcelWriter(\"execTimeAvg.xlsx\")\n",
    "\n",
    "execTime_slice.to_excel(writer, sheet_name=\"execTimeAvg\", index=False)\n",
    "\n",
    "writer.save()\n",
    "writer.handles = None"
   ]
  },
  {
   "cell_type": "code",
   "execution_count": null,
   "id": "e1d0e4cd",
   "metadata": {},
   "outputs": [],
   "source": []
  }
 ],
 "metadata": {
  "kernelspec": {
   "display_name": "Python 3 (ipykernel)",
   "language": "python",
   "name": "python3"
  },
  "language_info": {
   "codemirror_mode": {
    "name": "ipython",
    "version": 3
   },
   "file_extension": ".py",
   "mimetype": "text/x-python",
   "name": "python",
   "nbconvert_exporter": "python",
   "pygments_lexer": "ipython3",
   "version": "3.10.0"
  },
  "toc": {
   "base_numbering": 1,
   "nav_menu": {},
   "number_sections": true,
   "sideBar": true,
   "skip_h1_title": false,
   "title_cell": "Table of Contents",
   "title_sidebar": "Contents",
   "toc_cell": false,
   "toc_position": {},
   "toc_section_display": true,
   "toc_window_display": false
  },
  "varInspector": {
   "cols": {
    "lenName": 16,
    "lenType": 16,
    "lenVar": 40
   },
   "kernels_config": {
    "python": {
     "delete_cmd_postfix": "",
     "delete_cmd_prefix": "del ",
     "library": "var_list.py",
     "varRefreshCmd": "print(var_dic_list())"
    },
    "r": {
     "delete_cmd_postfix": ") ",
     "delete_cmd_prefix": "rm(",
     "library": "var_list.r",
     "varRefreshCmd": "cat(var_dic_list()) "
    }
   },
   "types_to_exclude": [
    "module",
    "function",
    "builtin_function_or_method",
    "instance",
    "_Feature"
   ],
   "window_display": false
  }
 },
 "nbformat": 4,
 "nbformat_minor": 5
}
