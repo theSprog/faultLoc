{
 "cells": [
  {
   "cell_type": "markdown",
   "id": "41e583c7",
   "metadata": {
    "ExecuteTime": {
     "end_time": "2022-10-17T06:59:30.918334Z",
     "start_time": "2022-10-17T06:59:29.794321Z"
    }
   },
   "source": [
    "### Part I, the rows required in the paper are selected from the original data"
   ]
  },
  {
   "cell_type": "code",
   "execution_count": 5,
   "id": "f365fc28",
   "metadata": {
    "ExecuteTime": {
     "end_time": "2022-10-20T05:41:38.164208Z",
     "start_time": "2022-10-20T05:41:38.157209Z"
    }
   },
   "outputs": [],
   "source": [
    "import pandas as pd\n",
    "import seaborn as sns\n",
    "import matplotlib.pyplot as plt\n",
    "import matplotlib.ticker as ticker"
   ]
  },
  {
   "cell_type": "code",
   "execution_count": 6,
   "id": "d3c2c3bb",
   "metadata": {
    "ExecuteTime": {
     "end_time": "2022-10-20T05:41:38.604059Z",
     "start_time": "2022-10-20T05:41:38.600058Z"
    }
   },
   "outputs": [],
   "source": [
    "algo = [\"FIC\", \"FICBS\", \"AIFL\", \"InverseCTD\", \"RI\",\n",
    "        \"SOFOT\", \"LG1\", \"LG2\", \"ComFIL\", \"TRT\", \"SP\", \"CMS\"]"
   ]
  },
  {
   "cell_type": "code",
   "execution_count": 2,
   "id": "e808ffbf",
   "metadata": {
    "ExecuteTime": {
     "end_time": "2022-10-19T05:43:50.306029Z",
     "start_time": "2022-10-19T05:43:49.916029Z"
    }
   },
   "outputs": [
    {
     "name": "stderr",
     "output_type": "stream",
     "text": [
      "D:\\python\\lib\\site-packages\\openpyxl\\styles\\stylesheet.py:226: UserWarning: Workbook contains no default style, apply openpyxl's default\n",
      "  warn(\"Workbook contains no default style, apply openpyxl's default\")\n"
     ]
    }
   ],
   "source": [
    "SafePrecision = pd.read_excel(\"./SafePrecision.xlsx\")\n",
    "SafeRecall = pd.read_excel(\"./SafeRecall.xlsx\")\n",
    "NoSafePrecision = pd.read_excel(\"./NoSafePrecision.xlsx\")\n",
    "NoSafeRecall = pd.read_excel(\"./NoSafeRecall.xlsx\")"
   ]
  },
  {
   "cell_type": "code",
   "execution_count": 3,
   "id": "c4c9da35",
   "metadata": {
    "ExecuteTime": {
     "end_time": "2022-10-19T05:43:50.336048Z",
     "start_time": "2022-10-19T05:43:50.308028Z"
    }
   },
   "outputs": [],
   "source": [
    "projects = []\n",
    "paths = []\n",
    "with open(\"../exp.txt\") as f:\n",
    "    lines = f.readlines()\n",
    "    for line in lines:\n",
    "        [project, path] = line.replace(\"\\n\", \"\").split(\"/\", 1)\n",
    "        projects.append(project)\n",
    "        paths.append(path)\n",
    "\n",
    "\n",
    "SafePrecision_slice = SafePrecision.loc[(SafePrecision['project'].isin(projects)) &\n",
    "                                        (SafePrecision['path'].isin(paths))].drop(\"path\", axis=1)\n",
    "SafeRecall_slice = SafeRecall.loc[(SafeRecall['project'].isin(projects)) &\n",
    "                                  (SafeRecall['path'].isin(paths))].drop(\"path\", axis=1)\n",
    "NoSafePrecision_slice = NoSafePrecision.loc[(NoSafePrecision['project'].isin(projects)) &\n",
    "                                            (NoSafePrecision['path'].isin(paths))].drop(\"path\", axis=1)\n",
    "NoSafeRecall_slice = NoSafeRecall.loc[(NoSafeRecall['project'].isin(projects)) &\n",
    "                                      (NoSafeRecall['path'].isin(paths))].drop(\"path\", axis=1)"
   ]
  },
  {
   "cell_type": "code",
   "execution_count": 4,
   "id": "a68a96ae",
   "metadata": {
    "ExecuteTime": {
     "end_time": "2022-10-19T05:43:51.477682Z",
     "start_time": "2022-10-19T05:43:50.338050Z"
    },
    "scrolled": true
   },
   "outputs": [
    {
     "ename": "KeyError",
     "evalue": "\"['FIC_BS'] not in index\"",
     "output_type": "error",
     "traceback": [
      "\u001b[1;31m---------------------------------------------------------------------------\u001b[0m",
      "\u001b[1;31mKeyError\u001b[0m                                  Traceback (most recent call last)",
      "Cell \u001b[1;32mIn [4], line 2\u001b[0m\n\u001b[0;32m      1\u001b[0m SafePrecision_slice[\u001b[38;5;124m'\u001b[39m\u001b[38;5;124mN\u001b[39m\u001b[38;5;124m'\u001b[39m] \u001b[38;5;241m=\u001b[39m SafePrecision_slice[\u001b[38;5;124m'\u001b[39m\u001b[38;5;124mN\u001b[39m\u001b[38;5;124m'\u001b[39m]\u001b[38;5;241m.\u001b[39mastype(\u001b[38;5;28mint\u001b[39m)\n\u001b[1;32m----> 2\u001b[0m SafePrecision_slice[algo] \u001b[38;5;241m=\u001b[39m \u001b[43mSafePrecision_slice\u001b[49m\u001b[43m[\u001b[49m\u001b[43malgo\u001b[49m\u001b[43m]\u001b[49m\u001b[38;5;241m.\u001b[39mastype(\u001b[38;5;28mfloat\u001b[39m)\u001b[38;5;241m.\u001b[39mround(\u001b[38;5;241m3\u001b[39m)\n\u001b[0;32m      4\u001b[0m SafeRecall_slice[\u001b[38;5;124m'\u001b[39m\u001b[38;5;124mN\u001b[39m\u001b[38;5;124m'\u001b[39m] \u001b[38;5;241m=\u001b[39m SafeRecall_slice[\u001b[38;5;124m'\u001b[39m\u001b[38;5;124mN\u001b[39m\u001b[38;5;124m'\u001b[39m]\u001b[38;5;241m.\u001b[39mastype(\u001b[38;5;28mint\u001b[39m)\n\u001b[0;32m      5\u001b[0m SafeRecall_slice[algo] \u001b[38;5;241m=\u001b[39m SafeRecall_slice[algo]\u001b[38;5;241m.\u001b[39mastype(\u001b[38;5;28mfloat\u001b[39m)\u001b[38;5;241m.\u001b[39mround(\u001b[38;5;241m3\u001b[39m)\n",
      "File \u001b[1;32mD:\\python\\lib\\site-packages\\pandas\\core\\frame.py:3464\u001b[0m, in \u001b[0;36mDataFrame.__getitem__\u001b[1;34m(self, key)\u001b[0m\n\u001b[0;32m   3462\u001b[0m     \u001b[38;5;28;01mif\u001b[39;00m is_iterator(key):\n\u001b[0;32m   3463\u001b[0m         key \u001b[38;5;241m=\u001b[39m \u001b[38;5;28mlist\u001b[39m(key)\n\u001b[1;32m-> 3464\u001b[0m     indexer \u001b[38;5;241m=\u001b[39m \u001b[38;5;28;43mself\u001b[39;49m\u001b[38;5;241;43m.\u001b[39;49m\u001b[43mloc\u001b[49m\u001b[38;5;241;43m.\u001b[39;49m\u001b[43m_get_listlike_indexer\u001b[49m\u001b[43m(\u001b[49m\u001b[43mkey\u001b[49m\u001b[43m,\u001b[49m\u001b[43m \u001b[49m\u001b[43maxis\u001b[49m\u001b[38;5;241;43m=\u001b[39;49m\u001b[38;5;241;43m1\u001b[39;49m\u001b[43m)\u001b[49m[\u001b[38;5;241m1\u001b[39m]\n\u001b[0;32m   3466\u001b[0m \u001b[38;5;66;03m# take() does not accept boolean indexers\u001b[39;00m\n\u001b[0;32m   3467\u001b[0m \u001b[38;5;28;01mif\u001b[39;00m \u001b[38;5;28mgetattr\u001b[39m(indexer, \u001b[38;5;124m\"\u001b[39m\u001b[38;5;124mdtype\u001b[39m\u001b[38;5;124m\"\u001b[39m, \u001b[38;5;28;01mNone\u001b[39;00m) \u001b[38;5;241m==\u001b[39m \u001b[38;5;28mbool\u001b[39m:\n",
      "File \u001b[1;32mD:\\python\\lib\\site-packages\\pandas\\core\\indexing.py:1314\u001b[0m, in \u001b[0;36m_LocIndexer._get_listlike_indexer\u001b[1;34m(self, key, axis)\u001b[0m\n\u001b[0;32m   1311\u001b[0m \u001b[38;5;28;01melse\u001b[39;00m:\n\u001b[0;32m   1312\u001b[0m     keyarr, indexer, new_indexer \u001b[38;5;241m=\u001b[39m ax\u001b[38;5;241m.\u001b[39m_reindex_non_unique(keyarr)\n\u001b[1;32m-> 1314\u001b[0m \u001b[38;5;28;43mself\u001b[39;49m\u001b[38;5;241;43m.\u001b[39;49m\u001b[43m_validate_read_indexer\u001b[49m\u001b[43m(\u001b[49m\u001b[43mkeyarr\u001b[49m\u001b[43m,\u001b[49m\u001b[43m \u001b[49m\u001b[43mindexer\u001b[49m\u001b[43m,\u001b[49m\u001b[43m \u001b[49m\u001b[43maxis\u001b[49m\u001b[43m)\u001b[49m\n\u001b[0;32m   1316\u001b[0m \u001b[38;5;28;01mif\u001b[39;00m needs_i8_conversion(ax\u001b[38;5;241m.\u001b[39mdtype) \u001b[38;5;129;01mor\u001b[39;00m \u001b[38;5;28misinstance\u001b[39m(\n\u001b[0;32m   1317\u001b[0m     ax, (IntervalIndex, CategoricalIndex)\n\u001b[0;32m   1318\u001b[0m ):\n\u001b[0;32m   1319\u001b[0m     \u001b[38;5;66;03m# For CategoricalIndex take instead of reindex to preserve dtype.\u001b[39;00m\n\u001b[0;32m   1320\u001b[0m     \u001b[38;5;66;03m#  For IntervalIndex this is to map integers to the Intervals they match to.\u001b[39;00m\n\u001b[0;32m   1321\u001b[0m     keyarr \u001b[38;5;241m=\u001b[39m ax\u001b[38;5;241m.\u001b[39mtake(indexer)\n",
      "File \u001b[1;32mD:\\python\\lib\\site-packages\\pandas\\core\\indexing.py:1377\u001b[0m, in \u001b[0;36m_LocIndexer._validate_read_indexer\u001b[1;34m(self, key, indexer, axis)\u001b[0m\n\u001b[0;32m   1374\u001b[0m     \u001b[38;5;28;01mraise\u001b[39;00m \u001b[38;5;167;01mKeyError\u001b[39;00m(\u001b[38;5;124mf\u001b[39m\u001b[38;5;124m\"\u001b[39m\u001b[38;5;124mNone of [\u001b[39m\u001b[38;5;132;01m{\u001b[39;00mkey\u001b[38;5;132;01m}\u001b[39;00m\u001b[38;5;124m] are in the [\u001b[39m\u001b[38;5;132;01m{\u001b[39;00maxis_name\u001b[38;5;132;01m}\u001b[39;00m\u001b[38;5;124m]\u001b[39m\u001b[38;5;124m\"\u001b[39m)\n\u001b[0;32m   1376\u001b[0m not_found \u001b[38;5;241m=\u001b[39m \u001b[38;5;28mlist\u001b[39m(ensure_index(key)[missing_mask\u001b[38;5;241m.\u001b[39mnonzero()[\u001b[38;5;241m0\u001b[39m]]\u001b[38;5;241m.\u001b[39munique())\n\u001b[1;32m-> 1377\u001b[0m \u001b[38;5;28;01mraise\u001b[39;00m \u001b[38;5;167;01mKeyError\u001b[39;00m(\u001b[38;5;124mf\u001b[39m\u001b[38;5;124m\"\u001b[39m\u001b[38;5;132;01m{\u001b[39;00mnot_found\u001b[38;5;132;01m}\u001b[39;00m\u001b[38;5;124m not in index\u001b[39m\u001b[38;5;124m\"\u001b[39m)\n",
      "\u001b[1;31mKeyError\u001b[0m: \"['FIC_BS'] not in index\""
     ]
    }
   ],
   "source": [
    "SafePrecision_slice['N'] = SafePrecision_slice['N'].astype(int)\n",
    "SafePrecision_slice[algo] = SafePrecision_slice[algo].astype(float).round(3)\n",
    "\n",
    "SafeRecall_slice['N'] = SafeRecall_slice['N'].astype(int)\n",
    "SafeRecall_slice[algo] = SafeRecall_slice[algo].astype(float).round(3)\n",
    "\n",
    "NoSafePrecision_slice['N'] = NoSafePrecision_slice['N'].astype(int)\n",
    "NoSafePrecision_slice[algo] = NoSafePrecision_slice[algo].astype(\n",
    "    float).round(3)\n",
    "\n",
    "NoSafeRecall_slice['N'] = NoSafeRecall_slice['N'].astype(int)\n",
    "NoSafeRecall_slice[algo] = NoSafeRecall_slice[algo].astype(float).round(3)"
   ]
  },
  {
   "cell_type": "code",
   "execution_count": null,
   "id": "6d2a90cf",
   "metadata": {
    "ExecuteTime": {
     "end_time": "2022-10-19T05:43:51.480681Z",
     "start_time": "2022-10-19T05:43:51.480681Z"
    }
   },
   "outputs": [],
   "source": [
    "writer = pd.ExcelWriter(\"PR.xlsx\")\n",
    "\n",
    "sheetNames01 = \"Precision with safe\"\n",
    "sheetNames02 = \"Recall with safe\"\n",
    "sheetNames03 = \"Precision without safe\"\n",
    "sheetNames04 = \"Recall without safe\"\n",
    "\n",
    "\n",
    "SafePrecision_slice.to_excel(writer, sheet_name=sheetNames01, index=False)\n",
    "SafeRecall_slice.to_excel(writer, sheet_name=sheetNames02, index=False)\n",
    "NoSafePrecision_slice.to_excel(writer, sheet_name=sheetNames03, index=False)\n",
    "NoSafeRecall_slice.to_excel(writer, sheet_name=sheetNames04, index=False)\n",
    "\n",
    "writer.save()\n",
    "writer.handles = None"
   ]
  },
  {
   "cell_type": "code",
   "execution_count": null,
   "id": "39d363a7",
   "metadata": {
    "ExecuteTime": {
     "end_time": "2022-10-17T08:27:41.414535Z",
     "start_time": "2022-10-17T08:27:41.382537Z"
    }
   },
   "outputs": [],
   "source": []
  },
  {
   "cell_type": "markdown",
   "id": "50795dc1",
   "metadata": {},
   "source": [
    "### Part II, processing the selected data into a presentable form for the paper"
   ]
  },
  {
   "cell_type": "code",
   "execution_count": null,
   "id": "f665f904",
   "metadata": {
    "ExecuteTime": {
     "end_time": "2022-10-19T05:43:51.481682Z",
     "start_time": "2022-10-19T05:43:51.481682Z"
    }
   },
   "outputs": [],
   "source": [
    "SafePrecision = pd.read_excel(\"./PR.xlsx\", sheet_name=\"Precision with safe\")\n",
    "SafeRecall = pd.read_excel(\"./PR.xlsx\", sheet_name=\"Recall with safe\")\n",
    "NoSafePrecision = pd.read_excel(\n",
    "    \"./PR.xlsx\", sheet_name=\"Precision without safe\")\n",
    "NoSafeRecall = pd.read_excel(\"./PR.xlsx\", sheet_name=\"Recall without safe\")"
   ]
  },
  {
   "cell_type": "code",
   "execution_count": null,
   "id": "b477afe1",
   "metadata": {
    "ExecuteTime": {
     "end_time": "2022-10-19T05:43:51.482683Z",
     "start_time": "2022-10-19T05:43:51.482683Z"
    }
   },
   "outputs": [],
   "source": [
    "SafePrecision = SafePrecision.fillna(\"-\")\n",
    "SafeRecall = SafeRecall.fillna('-')\n",
    "NoSafePrecision = NoSafePrecision.fillna('-')\n",
    "NoSafeRecall = NoSafeRecall.fillna('-')\n",
    "\n",
    "SafePrecision[algo] = SafePrecision[algo].astype(str)\n",
    "SafeRecall[algo] = SafeRecall[algo].astype(str)\n",
    "NoSafePrecision[algo] = NoSafePrecision[algo].astype(str)\n",
    "NoSafeRecall[algo] = NoSafeRecall[algo].astype(str)"
   ]
  },
  {
   "cell_type": "code",
   "execution_count": null,
   "id": "40b182bb",
   "metadata": {
    "ExecuteTime": {
     "end_time": "2022-10-19T05:43:51.483681Z",
     "start_time": "2022-10-19T05:43:51.483681Z"
    }
   },
   "outputs": [],
   "source": [
    "Precision = SafePrecision.copy()\n",
    "Precision[algo] = \"(\" + SafePrecision[algo] + ', ' + \\\n",
    "    NoSafePrecision[algo] + \")\"\n",
    "\n",
    "Recall = SafeRecall.copy()\n",
    "Recall[algo] = \"(\" + SafeRecall[algo] + ', ' + NoSafeRecall[algo] + \")\""
   ]
  },
  {
   "cell_type": "code",
   "execution_count": null,
   "id": "1d983599",
   "metadata": {
    "ExecuteTime": {
     "end_time": "2022-10-19T05:43:51.483681Z",
     "start_time": "2022-10-19T05:43:51.483681Z"
    }
   },
   "outputs": [],
   "source": [
    "writer = pd.ExcelWriter(\"PR.xlsx\", mode='a')\n",
    "\n",
    "Precision.to_excel(writer, sheet_name='Precision', index=False)\n",
    "Recall.to_excel(writer, sheet_name='Recall', index=False)\n",
    "\n",
    "writer.save()\n",
    "writer.handles = None"
   ]
  },
  {
   "cell_type": "code",
   "execution_count": 29,
   "id": "382c8adb",
   "metadata": {
    "ExecuteTime": {
     "end_time": "2022-10-20T05:57:26.556086Z",
     "start_time": "2022-10-20T05:57:26.541087Z"
    }
   },
   "outputs": [],
   "source": []
  },
  {
   "cell_type": "markdown",
   "id": "813e8af5",
   "metadata": {},
   "source": [
    "### Part III, graphing"
   ]
  },
  {
   "cell_type": "code",
   "execution_count": 77,
   "id": "d9786611",
   "metadata": {
    "ExecuteTime": {
     "end_time": "2022-10-20T07:04:29.078899Z",
     "start_time": "2022-10-20T07:04:28.988903Z"
    }
   },
   "outputs": [],
   "source": [
    "li = [i for i in range(23)]\n",
    "# li.append(22)\n",
    "SafePrecision = pd.read_excel(\"./PR.xlsx\", \n",
    "                              sheet_name=\"Precision with safe\").loc[li, :]\n",
    "SafeRecall = pd.read_excel(\"./PR.xlsx\", \n",
    "                           sheet_name=\"Recall with safe\").loc[li, :]\n",
    "NoSafePrecision = pd.read_excel(\"./PR.xlsx\", \n",
    "                                sheet_name=\"Precision without safe\").loc[li, :]\n",
    "NoSafeRecall = pd.read_excel(\"./PR.xlsx\", \n",
    "                             sheet_name=\"Recall without safe\").loc[li, :]"
   ]
  },
  {
   "cell_type": "code",
   "execution_count": 78,
   "id": "75fb95b6",
   "metadata": {
    "ExecuteTime": {
     "end_time": "2022-10-20T07:04:29.356397Z",
     "start_time": "2022-10-20T07:04:29.330400Z"
    }
   },
   "outputs": [],
   "source": [
    "SafePrecisionSequence = SafePrecision[algo].apply(lambda x: x.sum()/len(x), axis=0)\n",
    "NoSafePrecisionSequence = NoSafePrecision[algo].apply(lambda x: x.sum()/len(x), axis=0)\n",
    "SafeRecallSequence = SafeRecall[algo].apply(lambda x: x.sum()/len(x), axis=0)\n",
    "NoSafeRecallSequence = NoSafeRecall[algo].apply(lambda x: x.sum()/len(x), axis=0)"
   ]
  },
  {
   "cell_type": "code",
   "execution_count": 79,
   "id": "56a615b8",
   "metadata": {
    "ExecuteTime": {
     "end_time": "2022-10-20T07:04:29.663393Z",
     "start_time": "2022-10-20T07:04:29.650393Z"
    }
   },
   "outputs": [],
   "source": [
    "SafePrecisionSequence = SafePrecisionSequence.sort_values()\n",
    "NoSafePrecisionSequence = NoSafePrecisionSequence.reindex(SafePrecisionSequence.index)\n",
    "SafeRecallSequence = SafeRecallSequence.sort_values()\n",
    "NoSafeRecallSequence = SafeRecallSequence.reindex(SafeRecallSequence.index)"
   ]
  },
  {
   "cell_type": "code",
   "execution_count": 88,
   "id": "d0addf47",
   "metadata": {
    "ExecuteTime": {
     "end_time": "2022-10-20T07:09:45.309557Z",
     "start_time": "2022-10-20T07:09:44.955437Z"
    }
   },
   "outputs": [
    {
     "name": "stderr",
     "output_type": "stream",
     "text": [
      "The PostScript backend does not support transparency; partially transparent artists will be rendered opaque.\n"
     ]
    },
    {
     "data": {
      "image/png": "[encoded data removed]",
      "text/plain": [
       "<Figure size 600x900 with 2 Axes>"
      ]
     },
     "metadata": {},
     "output_type": "display_data"
    }
   ],
   "source": [
    "width = 0.3\n",
    "labels = algo\n",
    "x = np.arange(len(labels))\n",
    "plt.rcParams['figure.figsize'] = (6, 9)\n",
    "plt.subplot(2, 1, 1)\n",
    "typ1 = plt.bar(x-width/2, SafePrecisionSequence, width)\n",
    "typ2 = plt.bar(x+width/2, NoSafePrecisionSequence, width)\n",
    "ax = plt.gca()\n",
    "\n",
    "plt.xticks(x, SafePrecisionSequence.index)\n",
    "for lobj in ax.get_xticklabels():\n",
    "    lobj.set_rotation(45)\n",
    "    lobj.set_size(10)\n",
    "    lobj.set_color('blue')\n",
    "plt.title(\"precision\")\n",
    "plt.ylabel('average precision')\n",
    "plt.legend([typ1, typ2], ['safe-value', 'no safe-value'], loc=(-0.2,1.2))\n",
    "\n",
    "\n",
    "plt.subplot(2, 1, 2)\n",
    "typ1 = plt.bar(x-width/2, SafeRecallSequence, width)\n",
    "typ2 = plt.bar(x+width/2, NoSafeRecallSequence, width)\n",
    "ax = plt.gca()\n",
    "\n",
    "plt.xticks(x, SafeRecallSequence.index)\n",
    "for lobj in ax.get_xticklabels():\n",
    "    lobj.set_rotation(45)\n",
    "    lobj.set_size(10)\n",
    "    lobj.set_color('blue')\n",
    "plt.title(\"recall\")\n",
    "plt.ylabel('average recall')\n",
    "\n",
    "plt.subplots_adjust(hspace=0.50)\n",
    "plt.savefig('safe-value-impact.eps',dpi=400,format='eps', bbox_inches = 'tight')"
   ]
  },
  {
   "cell_type": "code",
   "execution_count": null,
   "id": "dfe38b45",
   "metadata": {
    "ExecuteTime": {
     "end_time": "2022-10-17T09:31:58.520981Z",
     "start_time": "2022-10-17T09:31:58.401980Z"
    }
   },
   "outputs": [],
   "source": []
  },
  {
   "cell_type": "code",
   "execution_count": null,
   "id": "38d2419b",
   "metadata": {
    "ExecuteTime": {
     "end_time": "2022-10-17T05:54:03.756058Z",
     "start_time": "2022-10-17T05:54:03.365049Z"
    }
   },
   "outputs": [],
   "source": []
  },
  {
   "cell_type": "code",
   "execution_count": null,
   "id": "01dd8f6c",
   "metadata": {
    "ExecuteTime": {
     "end_time": "2022-10-17T05:22:32.762775Z",
     "start_time": "2022-10-17T05:22:32.736775Z"
    }
   },
   "outputs": [],
   "source": []
  },
  {
   "cell_type": "code",
   "execution_count": null,
   "id": "32d42cf5",
   "metadata": {},
   "outputs": [],
   "source": []
  }
 ],
 "metadata": {
  "kernelspec": {
   "display_name": "Python 3 (ipykernel)",
   "language": "python",
   "name": "python3"
  },
  "language_info": {
   "codemirror_mode": {
    "name": "ipython",
    "version": 3
   },
   "file_extension": ".py",
   "mimetype": "text/x-python",
   "name": "python",
   "nbconvert_exporter": "python",
   "pygments_lexer": "ipython3",
   "version": "3.10.0"
  },
  "toc": {
   "base_numbering": 1,
   "nav_menu": {},
   "number_sections": true,
   "sideBar": true,
   "skip_h1_title": false,
   "title_cell": "Table of Contents",
   "title_sidebar": "Contents",
   "toc_cell": false,
   "toc_position": {},
   "toc_section_display": true,
   "toc_window_display": false
  },
  "varInspector": {
   "cols": {
    "lenName": 16,
    "lenType": 16,
    "lenVar": 40
   },
   "kernels_config": {
    "python": {
     "delete_cmd_postfix": "",
     "delete_cmd_prefix": "del ",
     "library": "var_list.py",
     "varRefreshCmd": "print(var_dic_list())"
    },
    "r": {
     "delete_cmd_postfix": ") ",
     "delete_cmd_prefix": "rm(",
     "library": "var_list.r",
     "varRefreshCmd": "cat(var_dic_list()) "
    }
   },
   "types_to_exclude": [
    "module",
    "function",
    "builtin_function_or_method",
    "instance",
    "_Feature"
   ],
   "window_display": false
  }
 },
 "nbformat": 4,
 "nbformat_minor": 5
}
