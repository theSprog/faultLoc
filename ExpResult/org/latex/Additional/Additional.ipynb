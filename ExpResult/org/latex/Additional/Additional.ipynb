{
 "cells": [
  {
   "cell_type": "code",
   "execution_count": 1,
   "id": "45f5a91b",
   "metadata": {
    "ExecuteTime": {
     "end_time": "2022-10-17T12:01:17.355571Z",
     "start_time": "2022-10-17T12:01:16.117652Z"
    }
   },
   "outputs": [],
   "source": [
    "import pandas as pd\n",
    "import seaborn as sns\n",
    "import matplotlib.pyplot as plt\n",
    "import matplotlib.ticker as ticker"
   ]
  },
  {
   "cell_type": "code",
   "execution_count": 2,
   "id": "20f47125",
   "metadata": {
    "ExecuteTime": {
     "end_time": "2022-10-17T12:01:17.681015Z",
     "start_time": "2022-10-17T12:01:17.357573Z"
    }
   },
   "outputs": [],
   "source": [
    "AdditionalTCAvg = pd.read_excel(\"./additionalTCAvg.xlsx\")\n",
    "algo = [\"FIC\", \"FICBS\", \"AIFL\", \"InverseCTD\", \"RI\",\n",
    "        \"SOFOT\", \"LG1\", \"LG2\", \"ComFIL\", \"TRT\", \"SP\", \"CMS\"]"
   ]
  },
  {
   "cell_type": "code",
   "execution_count": 3,
   "id": "685d1697",
   "metadata": {
    "ExecuteTime": {
     "end_time": "2022-10-17T12:01:17.696520Z",
     "start_time": "2022-10-17T12:01:17.683507Z"
    }
   },
   "outputs": [],
   "source": [
    "projects = []\n",
    "paths = []\n",
    "with open(\"../exp.txt\") as f:\n",
    "    lines = f.readlines()\n",
    "    for line in lines:\n",
    "        [project, path] = line.replace(\"\\n\", \"\").split(\"/\", 1)\n",
    "        projects.append(project)\n",
    "        paths.append(path)\n",
    "\n",
    "AdditionalTCAvg_slice = AdditionalTCAvg.loc[(AdditionalTCAvg['project'].isin(projects)) &\n",
    "                                        (AdditionalTCAvg['path'].isin(paths))].drop(\"path\", axis=1)\n",
    "AdditionalTCAvg_slice['N'] = AdditionalTCAvg_slice['N'].astype(int)\n",
    "AdditionalTCAvg_slice[algo] = AdditionalTCAvg_slice[algo].astype(float).round(3)"
   ]
  },
  {
   "cell_type": "code",
   "execution_count": 5,
   "id": "b6e3052f",
   "metadata": {
    "ExecuteTime": {
     "end_time": "2022-10-17T12:01:21.916410Z",
     "start_time": "2022-10-17T12:01:21.891394Z"
    }
   },
   "outputs": [],
   "source": [
    "writer = pd.ExcelWriter(\"expAdditionalTCAvg.xlsx\")\n",
    "\n",
    "AdditionalTCAvg_slice.to_excel(writer, sheet_name=\"AdditionalTCAvg\", index=False)\n",
    "\n",
    "writer.save()\n",
    "writer.handles = None"
   ]
  },
  {
   "cell_type": "code",
   "execution_count": null,
   "id": "ff9c0281",
   "metadata": {},
   "outputs": [],
   "source": []
  }
 ],
 "metadata": {
  "kernelspec": {
   "display_name": "Python 3 (ipykernel)",
   "language": "python",
   "name": "python3"
  },
  "language_info": {
   "codemirror_mode": {
    "name": "ipython",
    "version": 3
   },
   "file_extension": ".py",
   "mimetype": "text/x-python",
   "name": "python",
   "nbconvert_exporter": "python",
   "pygments_lexer": "ipython3",
   "version": "3.10.0"
  },
  "toc": {
   "base_numbering": 1,
   "nav_menu": {},
   "number_sections": true,
   "sideBar": true,
   "skip_h1_title": false,
   "title_cell": "Table of Contents",
   "title_sidebar": "Contents",
   "toc_cell": false,
   "toc_position": {},
   "toc_section_display": true,
   "toc_window_display": false
  },
  "varInspector": {
   "cols": {
    "lenName": 16,
    "lenType": 16,
    "lenVar": 40
   },
   "kernels_config": {
    "python": {
     "delete_cmd_postfix": "",
     "delete_cmd_prefix": "del ",
     "library": "var_list.py",
     "varRefreshCmd": "print(var_dic_list())"
    },
    "r": {
     "delete_cmd_postfix": ") ",
     "delete_cmd_prefix": "rm(",
     "library": "var_list.r",
     "varRefreshCmd": "cat(var_dic_list()) "
    }
   },
   "types_to_exclude": [
    "module",
    "function",
    "builtin_function_or_method",
    "instance",
    "_Feature"
   ],
   "window_display": false
  }
 },
 "nbformat": 4,
 "nbformat_minor": 5
}
