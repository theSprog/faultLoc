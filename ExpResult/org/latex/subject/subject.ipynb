{
 "cells": [
  {
   "cell_type": "code",
   "execution_count": 44,
   "id": "c96c18d1",
   "metadata": {
    "ExecuteTime": {
     "end_time": "2022-10-20T06:44:34.850614Z",
     "start_time": "2022-10-20T06:44:34.836605Z"
    }
   },
   "outputs": [],
   "source": [
    "import pandas as pd\n",
    "import seaborn as sns\n",
    "import matplotlib.pyplot as plt\n",
    "import matplotlib.ticker as ticker\n",
    "from matplotlib.ticker import MaxNLocator"
   ]
  },
  {
   "cell_type": "code",
   "execution_count": 45,
   "id": "7e59ded0",
   "metadata": {
    "ExecuteTime": {
     "end_time": "2022-10-20T06:44:35.159370Z",
     "start_time": "2022-10-20T06:44:35.143349Z"
    }
   },
   "outputs": [],
   "source": [
    "subject = pd.read_excel(\"./subject.xlsx\", header=None)"
   ]
  },
  {
   "cell_type": "code",
   "execution_count": 46,
   "id": "349d73ea",
   "metadata": {
    "ExecuteTime": {
     "end_time": "2022-10-20T06:44:35.515059Z",
     "start_time": "2022-10-20T06:44:35.501747Z"
    }
   },
   "outputs": [],
   "source": [
    "subject[4] = subject[4].apply(lambda x: x.strip())"
   ]
  },
  {
   "cell_type": "code",
   "execution_count": 47,
   "id": "675a7f90",
   "metadata": {
    "ExecuteTime": {
     "end_time": "2022-10-20T06:44:38.504776Z",
     "start_time": "2022-10-20T06:44:38.495781Z"
    }
   },
   "outputs": [],
   "source": [
    "faults = []\n",
    "for s in subject[3]:\n",
    "    faults.append( str(s).count(',') + 1 )\n",
    "faults = pd.Series(faults)"
   ]
  },
  {
   "cell_type": "code",
   "execution_count": 52,
   "id": "397d3ba2",
   "metadata": {
    "ExecuteTime": {
     "end_time": "2022-10-20T06:48:11.254017Z",
     "start_time": "2022-10-20T06:48:11.065841Z"
    }
   },
   "outputs": [
    {
     "name": "stderr",
     "output_type": "stream",
     "text": [
      "The PostScript backend does not support transparency; partially transparent artists will be rendered opaque.\n"
     ]
    },
    {
     "data": {
      "image/png": "[encoded data removed]",
      "text/plain": [
       "<Figure size 640x480 with 1 Axes>"
      ]
     },
     "metadata": {},
     "output_type": "display_data"
    }
   ],
   "source": [
    "typ1 = plt.scatter(subject[1][subject[4] == 'N'], faults[subject[4] == 'N'], s = 10)\n",
    "typ2 = plt.scatter(subject[1][subject[4] == 'Y'], faults[subject[4] == 'Y'], s = 10, c='red')\n",
    "ax = plt.gca()\n",
    "ax.yaxis.set_major_locator(MaxNLocator(integer=True))\n",
    "ax.spines['right'].set_visible(False)\n",
    "ax.spines['top'].set_visible(False)\n",
    "plt.xlabel('configuration options')\n",
    "plt.ylabel('faults')\n",
    "plt.legend([typ1, typ2], ['safe-value', 'no safe-value'])\n",
    "plt.savefig('subject.eps',dpi=400,format='eps', bbox_inches = 'tight')"
   ]
  },
  {
   "cell_type": "code",
   "execution_count": null,
   "id": "b5960658",
   "metadata": {},
   "outputs": [],
   "source": []
  }
 ],
 "metadata": {
  "kernelspec": {
   "display_name": "Python 3 (ipykernel)",
   "language": "python",
   "name": "python3"
  },
  "language_info": {
   "codemirror_mode": {
    "name": "ipython",
    "version": 3
   },
   "file_extension": ".py",
   "mimetype": "text/x-python",
   "name": "python",
   "nbconvert_exporter": "python",
   "pygments_lexer": "ipython3",
   "version": "3.10.0"
  },
  "toc": {
   "base_numbering": 1,
   "nav_menu": {},
   "number_sections": true,
   "sideBar": true,
   "skip_h1_title": false,
   "title_cell": "Table of Contents",
   "title_sidebar": "Contents",
   "toc_cell": false,
   "toc_position": {},
   "toc_section_display": true,
   "toc_window_display": false
  },
  "varInspector": {
   "cols": {
    "lenName": 16,
    "lenType": 16,
    "lenVar": 40
   },
   "kernels_config": {
    "python": {
     "delete_cmd_postfix": "",
     "delete_cmd_prefix": "del ",
     "library": "var_list.py",
     "varRefreshCmd": "print(var_dic_list())"
    },
    "r": {
     "delete_cmd_postfix": ") ",
     "delete_cmd_prefix": "rm(",
     "library": "var_list.r",
     "varRefreshCmd": "cat(var_dic_list()) "
    }
   },
   "types_to_exclude": [
    "module",
    "function",
    "builtin_function_or_method",
    "instance",
    "_Feature"
   ],
   "window_display": false
  }
 },
 "nbformat": 4,
 "nbformat_minor": 5
}
