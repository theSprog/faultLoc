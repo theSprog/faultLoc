{
 "cells": [
  {
   "cell_type": "code",
   "execution_count": 1,
   "id": "f72ef362",
   "metadata": {
    "ExecuteTime": {
     "end_time": "2022-10-20T06:07:49.673136Z",
     "start_time": "2022-10-20T06:07:48.598511Z"
    }
   },
   "outputs": [],
   "source": [
    "import pandas as pd\n",
    "import seaborn as sns\n",
    "import matplotlib.pyplot as plt\n",
    "import matplotlib.ticker as ticker"
   ]
  },
  {
   "cell_type": "code",
   "execution_count": 5,
   "id": "51cb18c3",
   "metadata": {
    "ExecuteTime": {
     "end_time": "2022-10-20T06:26:48.436856Z",
     "start_time": "2022-10-20T06:26:48.413604Z"
    }
   },
   "outputs": [],
   "source": [
    "subject = pd.read_excel(\"./subject.xlsx\", header=None)"
   ]
  },
  {
   "cell_type": "code",
   "execution_count": 17,
   "id": "7c41b1e9",
   "metadata": {
    "ExecuteTime": {
     "end_time": "2022-10-20T06:36:37.633549Z",
     "start_time": "2022-10-20T06:36:37.613545Z"
    }
   },
   "outputs": [
    {
     "data": {
      "text/plain": [
       "0        Y   \n",
       "1        Y   \n",
       "2        N   \n",
       "3        N   \n",
       "4        Y   \n",
       "5        N   \n",
       "6        N   \n",
       "7        N   \n",
       "8        N   \n",
       "9        N   \n",
       "10       N   \n",
       "11       N   \n",
       "12       N   \n",
       "13       N   \n",
       "14       N   \n",
       "15       N   \n",
       "16       N   \n",
       "17       N   \n",
       "18       N   \n",
       "19       N   \n",
       "20       N   \n",
       "21       N   \n",
       "22       N   \n",
       "Name: 4, dtype: object"
      ]
     },
     "execution_count": 17,
     "metadata": {},
     "output_type": "execute_result"
    }
   ],
   "source": [
    "subject[4]"
   ]
  },
  {
   "cell_type": "code",
   "execution_count": 15,
   "id": "c149f64f",
   "metadata": {
    "ExecuteTime": {
     "end_time": "2022-10-20T06:34:32.408331Z",
     "start_time": "2022-10-20T06:34:32.389336Z"
    }
   },
   "outputs": [],
   "source": [
    "faults = []\n",
    "for s in subject[3]:\n",
    "    faults.append( str(s).count(',') + 1 )\n",
    "    \n",
    "faults = []\n",
    "for s in subject[3]:\n",
    "    faults.append( str(s).count(',') + 1 )"
   ]
  },
  {
   "cell_type": "code",
   "execution_count": null,
   "id": "860b42b1",
   "metadata": {},
   "outputs": [],
   "source": [
    "typ1 = plt.scatter(subject[1], li)\n",
    "typ2 = plt.scatter(subject[1], li)\n",
    "\n",
    "plt.ylabel('faults')\n",
    "plt.legend([typ1, typ2], ['safe-value', 'no safe-value'], loc=(-0.2,1.2))"
   ]
  }
 ],
 "metadata": {
  "kernelspec": {
   "display_name": "Python 3 (ipykernel)",
   "language": "python",
   "name": "python3"
  },
  "language_info": {
   "codemirror_mode": {
    "name": "ipython",
    "version": 3
   },
   "file_extension": ".py",
   "mimetype": "text/x-python",
   "name": "python",
   "nbconvert_exporter": "python",
   "pygments_lexer": "ipython3",
   "version": "3.10.0"
  },
  "toc": {
   "base_numbering": 1,
   "nav_menu": {},
   "number_sections": true,
   "sideBar": true,
   "skip_h1_title": false,
   "title_cell": "Table of Contents",
   "title_sidebar": "Contents",
   "toc_cell": false,
   "toc_position": {},
   "toc_section_display": true,
   "toc_window_display": false
  },
  "varInspector": {
   "cols": {
    "lenName": 16,
    "lenType": 16,
    "lenVar": 40
   },
   "kernels_config": {
    "python": {
     "delete_cmd_postfix": "",
     "delete_cmd_prefix": "del ",
     "library": "var_list.py",
     "varRefreshCmd": "print(var_dic_list())"
    },
    "r": {
     "delete_cmd_postfix": ") ",
     "delete_cmd_prefix": "rm(",
     "library": "var_list.r",
     "varRefreshCmd": "cat(var_dic_list()) "
    }
   },
   "types_to_exclude": [
    "module",
    "function",
    "builtin_function_or_method",
    "instance",
    "_Feature"
   ],
   "window_display": false
  }
 },
 "nbformat": 4,
 "nbformat_minor": 5
}
