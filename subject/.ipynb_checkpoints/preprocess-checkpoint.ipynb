{
 "cells": [
  {
   "cell_type": "code",
   "execution_count": 1,
   "id": "543ee555",
   "metadata": {
    "ExecuteTime": {
     "end_time": "2022-07-04T08:02:20.713529Z",
     "start_time": "2022-07-04T08:02:20.389531Z"
    }
   },
   "outputs": [],
   "source": [
    "import re\n",
    "import pandas as pd\n",
    "import os\n",
    "import csv"
   ]
  },
  {
   "cell_type": "code",
   "execution_count": 2,
   "id": "4aa259b2",
   "metadata": {
    "ExecuteTime": {
     "end_time": "2022-07-04T08:02:20.744529Z",
     "start_time": "2022-07-04T08:02:20.715031Z"
    }
   },
   "outputs": [
    {
     "data": {
      "text/html": [
       "<div>\n",
       "<style scoped>\n",
       "    .dataframe tbody tr th:only-of-type {\n",
       "        vertical-align: middle;\n",
       "    }\n",
       "\n",
       "    .dataframe tbody tr th {\n",
       "        vertical-align: top;\n",
       "    }\n",
       "\n",
       "    .dataframe thead th {\n",
       "        text-align: right;\n",
       "    }\n",
       "</style>\n",
       "<table border=\"1\" class=\"dataframe\">\n",
       "  <thead>\n",
       "    <tr style=\"text-align: right;\">\n",
       "      <th></th>\n",
       "      <th>a</th>\n",
       "      <th>b</th>\n",
       "      <th>c</th>\n",
       "      <th>d</th>\n",
       "      <th>e</th>\n",
       "      <th>f</th>\n",
       "      <th>g</th>\n",
       "    </tr>\n",
       "  </thead>\n",
       "  <tbody>\n",
       "    <tr>\n",
       "      <th>0</th>\n",
       "      <td>apache</td>\n",
       "      <td>commit</td>\n",
       "      <td>ce0b029d3dc46512ae7fec271d4ca536fe22257b</td>\n",
       "      <td>server/mpm_common.c</td>\n",
       "      <td>AP_MPM_USES_POD</td>\n",
       "      <td>1.0</td>\n",
       "      <td>1.0</td>\n",
       "    </tr>\n",
       "    <tr>\n",
       "      <th>1</th>\n",
       "      <td>apache</td>\n",
       "      <td>commit</td>\n",
       "      <td>1b48bb3c1af572fe256473db502663cc2442cf29</td>\n",
       "      <td>modules/experimental/util_ldap_cache.c</td>\n",
       "      <td>APR_HAS_SHARED_MEMORY</td>\n",
       "      <td>1.0</td>\n",
       "      <td>1.0</td>\n",
       "    </tr>\n",
       "    <tr>\n",
       "      <th>2</th>\n",
       "      <td>apache</td>\n",
       "      <td>commit</td>\n",
       "      <td>728709bcb84ca8bf2202078f9ee470f2f8c48533</td>\n",
       "      <td>os/unix/unixd.c</td>\n",
       "      <td>APR_HAS_SYSVSEM_SERIALIZE</td>\n",
       "      <td>1.0</td>\n",
       "      <td>1.0</td>\n",
       "    </tr>\n",
       "    <tr>\n",
       "      <th>3</th>\n",
       "      <td>apache</td>\n",
       "      <td>release</td>\n",
       "      <td>apache-2.0.65</td>\n",
       "      <td>modules/ssl/ssl_util.c</td>\n",
       "      <td>APR_HAS_THREADS</td>\n",
       "      <td>1.0</td>\n",
       "      <td>1.0</td>\n",
       "    </tr>\n",
       "    <tr>\n",
       "      <th>4</th>\n",
       "      <td>apache</td>\n",
       "      <td>commit</td>\n",
       "      <td>f3d438afd9a500bd96d4090121657bf5d4219b34</td>\n",
       "      <td>server/listen.c</td>\n",
       "      <td>APR_HAVE_IPV6</td>\n",
       "      <td>1.0</td>\n",
       "      <td>1.0</td>\n",
       "    </tr>\n",
       "  </tbody>\n",
       "</table>\n",
       "</div>"
      ],
      "text/plain": [
       "        a        b                                         c  \\\n",
       "0  apache   commit  ce0b029d3dc46512ae7fec271d4ca536fe22257b   \n",
       "1  apache   commit  1b48bb3c1af572fe256473db502663cc2442cf29   \n",
       "2  apache   commit  728709bcb84ca8bf2202078f9ee470f2f8c48533   \n",
       "3  apache  release                             apache-2.0.65   \n",
       "4  apache   commit  f3d438afd9a500bd96d4090121657bf5d4219b34   \n",
       "\n",
       "                                        d                          e    f    g  \n",
       "0                     server/mpm_common.c            AP_MPM_USES_POD  1.0  1.0  \n",
       "1  modules/experimental/util_ldap_cache.c      APR_HAS_SHARED_MEMORY  1.0  1.0  \n",
       "2                         os/unix/unixd.c  APR_HAS_SYSVSEM_SERIALIZE  1.0  1.0  \n",
       "3                  modules/ssl/ssl_util.c            APR_HAS_THREADS  1.0  1.0  \n",
       "4                         server/listen.c              APR_HAVE_IPV6  1.0  1.0  "
      ]
     },
     "execution_count": 2,
     "metadata": {},
     "output_type": "execute_result"
    }
   ],
   "source": [
    "df = pd.read_excel(\"./bugs.xls\", names=['a', 'b', 'c', 'd', 'e', 'f', 'g'], header=None)\n",
    "df.head(5)"
   ]
  },
  {
   "cell_type": "code",
   "execution_count": 3,
   "id": "e827119b",
   "metadata": {
    "ExecuteTime": {
     "end_time": "2022-07-04T08:02:20.760029Z",
     "start_time": "2022-07-04T08:02:20.746530Z"
    },
    "code_folding": []
   },
   "outputs": [],
   "source": [
    "def gen_csv_file(bugs_preprocess_dir, filename, paras_tuple):\n",
    "    with open(bugs_preprocess_dir + '/' + filename + '.csv', 'a+') as to_csv_file:\n",
    "        writer = csv.writer(to_csv_file)\n",
    "        writer.writerow([v for (_, v) in paras_tuple])"
   ]
  },
  {
   "cell_type": "code",
   "execution_count": 4,
   "id": "1d23b1d7",
   "metadata": {
    "ExecuteTime": {
     "end_time": "2022-07-04T08:02:20.775529Z",
     "start_time": "2022-07-04T08:02:20.761534Z"
    },
    "code_folding": []
   },
   "outputs": [],
   "source": [
    "def gen_readme_file(bugs_preprocess_dir, filename, paras):\n",
    "    with open(bugs_preprocess_dir + '/' + filename + '_readme.md', 'w+') as readme_file:\n",
    "        readme_file.writelines(\"This is a description of all the parameters of the related code,\\n\")\n",
    "        readme_file.writelines(\"the Arabic numbers represent the index of one parameter within a test case,\\n\")\n",
    "        readme_file.writelines(\"followed by the characters representing the names of the parameters,\\n\")\n",
    "        readme_file.writelines(\"such as `i: NAME` representing the name of i-th parameter is **NAME** \\n\")\n",
    "        readme_file.writelines(\"\\n\\n\")\n",
    "        readme_file.writelines(\"for the `.csv` and `.safe` files, we define the value of each parameter to be 1 for the 'n' and 2 for the 'y'\\n\")\n",
    "        readme_file.writelines(\"and for the `.fault` files, each block of file separated by '#' represent one complete fault parameter-value pairs\\n\")\n",
    "        readme_file.writelines(\"such as `k: v` representing there is a part of fault when k-th parameter take 'v'\\n\")\n",
    "        readme_file.writelines(\"and if you assign all the parameters within a block to the corresponding values, you will get an fault\\n\")\n",
    "        readme_file.writelines(\"\\n\\n\")\n",
    "        \n",
    "        for i, para in enumerate(paras):\n",
    "            readme_file.writelines(\"#### {}: {} \\n\".format(i, para))"
   ]
  },
  {
   "cell_type": "code",
   "execution_count": 5,
   "id": "607a90fc",
   "metadata": {
    "ExecuteTime": {
     "end_time": "2022-07-04T08:02:20.791029Z",
     "start_time": "2022-07-04T08:02:20.777033Z"
    }
   },
   "outputs": [],
   "source": [
    "def gen_fault_safe_file(fault_lists, paras, bugs_preprocess_dir, filename):\n",
    "    faults = parse_faults_from_list(fault_lists, paras)\n",
    "    \n",
    "    with open(bugs_preprocess_dir + '/' + filename + '.fault', 'w') as to_fault_file:\n",
    "        for fault in faults:\n",
    "            to_fault_file.writelines(', '.join([\"{}:{}\".format(fault_index,fault_value) for (fault_index, fault_value) in fault]))\n",
    "            to_fault_file.writelines(\"\\n##########\\n\")\n",
    "\n",
    "    safes_tuple = [[1, 2] for para in paras]\n",
    "    for fault in faults:\n",
    "        for (index, value) in fault:\n",
    "            safes_tuple[index][value-1] = -1\n",
    "    \n",
    "    safe_value_list = []\n",
    "    for i, (k, v) in enumerate(safes_tuple):\n",
    "        if k == -1 and v == -1:\n",
    "            try:\n",
    "                err_str = \"{}/{} hasn't safe value! because {} can't decide\".format(bugs_preprocess_dir, filename, paras[i])\n",
    "                raise ValueError(err_str)\n",
    "            except ValueError as e:\n",
    "                print(str(e))\n",
    "                return\n",
    "        else:\n",
    "            if not k == -1:\n",
    "                safe_value_list.append(k)\n",
    "            else:\n",
    "                safe_value_list.append(v)\n",
    "    \n",
    "    \n",
    "    with open(bugs_preprocess_dir + '/' + filename + '.safe', 'w') as to_safe_file:\n",
    "        writer = csv.writer(to_safe_file)\n",
    "        writer.writerow(safe_value_list)"
   ]
  },
  {
   "cell_type": "code",
   "execution_count": 6,
   "id": "8d8ddc26",
   "metadata": {
    "ExecuteTime": {
     "end_time": "2022-07-04T08:02:20.806529Z",
     "start_time": "2022-07-04T08:02:20.792532Z"
    }
   },
   "outputs": [],
   "source": [
    "def parse_faults_from_list(fault_lists, paras):\n",
    "#     print(fault_lists, paras)\n",
    "    faults = []\n",
    "    for fault_list in fault_lists:\n",
    "        fault = []\n",
    "        for factor_str in fault_list:\n",
    "            if factor_str.startswith(\"!\"):\n",
    "                factor = factor_str.replace(\"!\", \"\")\n",
    "                index = paras.index(factor)\n",
    "                fault.append((index, 1))\n",
    "            else:\n",
    "                factor = factor_str\n",
    "                index = paras.index(factor)\n",
    "                fault.append((index, 2))\n",
    "        faults.append(fault)\n",
    "    return faults"
   ]
  },
  {
   "cell_type": "code",
   "execution_count": 7,
   "id": "aa1d81a4",
   "metadata": {
    "ExecuteTime": {
     "end_time": "2022-07-04T08:02:20.822029Z",
     "start_time": "2022-07-04T08:02:20.808028Z"
    }
   },
   "outputs": [],
   "source": [
    "def gen_related_files(bugs_dir, bugs_preprocess_dir, filename, fault_str):\n",
    "#     print(bugs_dir, filename, fault_str)\n",
    "    fault_lists = parse_faults_from_excel_str(fault_str)\n",
    "#     print(fault_lists)\n",
    "    if not os.path.exists(bugs_preprocess_dir):\n",
    "        os.makedirs(bugs_preprocess_dir)\n",
    "        \n",
    "    # 遍历文件夹下每一个文件，将 .config 文件转为合适的 csv 文件\n",
    "    paras_len_list = []\n",
    "    for config_filename_str in os.listdir(bugs_dir):\n",
    "        if not re.search('^' + filename + '.config\\d', config_filename_str):\n",
    "            continue\n",
    "            \n",
    "        paras_tuple_list = []\n",
    "        paras_list = []\n",
    "        with open(bugs_dir + '/' + config_filename_str, 'r') as config_file:\n",
    "            for line in config_file.readlines():\n",
    "                parakv = re.findall(\"([\\w.]+)=([ynm])\",line)\n",
    "                if parakv:\n",
    "                    [(k, v)] = parakv\n",
    "                    paras_tuple_list.append((k, 2 if v=='y' or v == 'm' else 1))\n",
    "                    paras_list.append(k)\n",
    "                    \n",
    "        paras_len_list.append(len(paras_tuple_list))\n",
    "        \n",
    "        if not os.path.exists(bugs_preprocess_dir + '/' + filename + '_readme.md'):\n",
    "            gen_readme_file(bugs_preprocess_dir, filename, paras_list)\n",
    "        if not os.path.exists(bugs_preprocess_dir + '/' + filename + \".fault\"):    \n",
    "            gen_fault_safe_file(fault_lists, paras_list, bugs_preprocess_dir, filename)\n",
    "\n",
    "        gen_csv_file(bugs_preprocess_dir, filename, paras_tuple_list)\n",
    "    \n",
    "    assert len(set(paras_len_list)) == 1"
   ]
  },
  {
   "cell_type": "code",
   "execution_count": 8,
   "id": "1efee517",
   "metadata": {
    "ExecuteTime": {
     "end_time": "2022-07-04T08:02:20.837529Z",
     "start_time": "2022-07-04T08:02:20.823529Z"
    }
   },
   "outputs": [],
   "source": [
    "def parse_faults_from_excel_str(faults_str):\n",
    "    faults = re.split(\"[|]{2}\", faults_str)\n",
    "    fault_lists = []\n",
    "    for fault in faults:\n",
    "        pattern = re.compile(\"[(]?([!\\w]+)[)]?\")\n",
    "        fault_list = pattern.findall(fault)\n",
    "        fault_lists.append(fault_list)\n",
    "    return fault_lists"
   ]
  },
  {
   "cell_type": "code",
   "execution_count": 9,
   "id": "f90129ef",
   "metadata": {
    "ExecuteTime": {
     "end_time": "2022-07-04T08:02:24.154529Z",
     "start_time": "2022-07-04T08:02:20.839529Z"
    }
   },
   "outputs": [
    {
     "name": "stdout",
     "output_type": "stream",
     "text": [
      "bugs_preprocess/cvs/src/buffer.c hasn't safe value! because SHUTDOWN_SERVER can't decide\n"
     ]
    }
   ],
   "source": [
    "paths = df.loc[:, 'a'] +'/'+ df.loc[:, 'd']\n",
    "fault_strs = df.loc[:, 'e']\n",
    "for (path, fault_str) in zip(paths, fault_strs):\n",
    "    (dir_path, filename) = path.rsplit('/', 1)\n",
    "    bugs_dir = 'bugs/' + dir_path\n",
    "    bugs_preprocess_dir = 'bugs_preprocess/' + dir_path\n",
    "    gen_related_files(bugs_dir, bugs_preprocess_dir, filename, fault_str)"
   ]
  },
  {
   "cell_type": "code",
   "execution_count": null,
   "id": "014f7ad7",
   "metadata": {
    "ExecuteTime": {
     "end_time": "2022-06-25T03:35:53.384310Z",
     "start_time": "2022-06-25T03:35:42.411306Z"
    }
   },
   "outputs": [],
   "source": [
    "8:1, 5:1, 7:1, 4:1, 6:1, 3:2\n",
    "##########"
   ]
  },
  {
   "cell_type": "code",
   "execution_count": 49,
   "id": "3a85c539",
   "metadata": {
    "ExecuteTime": {
     "end_time": "2022-07-04T11:15:31.885164Z",
     "start_time": "2022-07-04T11:15:31.872165Z"
    }
   },
   "outputs": [
    {
     "name": "stdout",
     "output_type": "stream",
     "text": [
      "[1, 1, 1, 1, 1, 1, 1, 1, 1, 1, 1, 1, 1, 1, 1, 1, 1, 1, 1, 1, 1, 1, 1, 1, 1, 1, 1, 1, 1, 1, 1, 1, 1, 1, 1, 1, 1, 1, 1, 1, 1, 1, 1, 1, 1, 1, 1, 1, 1, 1, 1, 1, 1, 1, 1, 1]\n"
     ]
    }
   ],
   "source": [
    "ls = [1,1,1,1,2,2,2,2,2,1,1,1,1,1,1,1,1,1,1,1,1,1,1,1,1,1,1,1,1,1,1,1,1,1,1,1,1,1,1,1,1,1,1,1,1,1,1,1,1,1,1,1,1,1,1,1,1,1,1,1,1,1,1,1,1,1,1,1,1,1,1,1,1,1,1,1,1,1,1,1,1,1,1,1,1,1,1,1,1,1,1,1,1,1,1,1,1,1,1,1,1,1,1,1,1,1,1,1,1,1,1,1,1,1,1,1,1,1,1,1,1,1,1,1,1,1,1,1,1,1,1,1,1,1,1,1,1,1,1,1,1,1,1,1,1,1,1,1,1,1,1,1,1,1,1,1,1,1,1,1,1,1,1,1,1,1,1,1,1,1\n",
    "     ]\n",
    "ls[8] = 1\n",
    "ls[5] = 1\n",
    "ls[7] = 1\n",
    "ls[4] = 1\n",
    "ls[6] = 1\n",
    "ls[3] = 2\n",
    "print(ls)"
   ]
  },
  {
   "cell_type": "code",
   "execution_count": 50,
   "id": "94f81752-aa63-4d6f-a995-c1a92658a38e",
   "metadata": {
    "ExecuteTime": {
     "end_time": "2022-07-04T11:15:32.210664Z",
     "start_time": "2022-07-04T11:15:32.197166Z"
    }
   },
   "outputs": [],
   "source": [
    "with open(\"test.txt\", \"w\") as t:\n",
    "    t.writelines(\",\".join([str(i) for i in ls]))"
   ]
  },
  {
   "cell_type": "code",
   "execution_count": null,
   "id": "5be3a33a",
   "metadata": {},
   "outputs": [],
   "source": []
  }
 ],
 "metadata": {
  "kernelspec": {
   "display_name": "Python 3 (ipykernel)",
   "language": "python",
   "name": "python3"
  },
  "language_info": {
   "codemirror_mode": {
    "name": "ipython",
    "version": 3
   },
   "file_extension": ".py",
   "mimetype": "text/x-python",
   "name": "python",
   "nbconvert_exporter": "python",
   "pygments_lexer": "ipython3",
   "version": "3.9.7"
  },
  "toc": {
   "base_numbering": 1,
   "nav_menu": {},
   "number_sections": true,
   "sideBar": true,
   "skip_h1_title": false,
   "title_cell": "Table of Contents",
   "title_sidebar": "Contents",
   "toc_cell": false,
   "toc_position": {},
   "toc_section_display": true,
   "toc_window_display": false
  },
  "varInspector": {
   "cols": {
    "lenName": 16,
    "lenType": 16,
    "lenVar": 40
   },
   "kernels_config": {
    "python": {
     "delete_cmd_postfix": "",
     "delete_cmd_prefix": "del ",
     "library": "var_list.py",
     "varRefreshCmd": "print(var_dic_list())"
    },
    "r": {
     "delete_cmd_postfix": ") ",
     "delete_cmd_prefix": "rm(",
     "library": "var_list.r",
     "varRefreshCmd": "cat(var_dic_list()) "
    }
   },
   "oldHeight": 122.85400000000001,
   "position": {
    "height": "332.844px",
    "left": "1329.33px",
    "right": "20px",
    "top": "120px",
    "width": "358px"
   },
   "types_to_exclude": [
    "module",
    "function",
    "builtin_function_or_method",
    "instance",
    "_Feature"
   ],
   "varInspector_section_display": "block",
   "window_display": false
  }
 },
 "nbformat": 4,
 "nbformat_minor": 5
}
